{
 "cells": [
  {
   "cell_type": "markdown",
   "metadata": {},
   "source": [
    "# Lecture 01\n",
    "This is a *Jupyter Notebook*.  Analogy:  Google Docs."
   ]
  },
  {
   "cell_type": "code",
   "execution_count": null,
   "metadata": {},
   "outputs": [],
   "source": [
    "# Pay no attention to this code\n",
    "\n",
    "from datascience import *\n",
    "import numpy as np\n",
    "import matplotlib\n",
    "matplotlib.use('Agg', warn=False)\n",
    "%matplotlib inline\n",
    "import matplotlib.pyplot as plots\n",
    "plots.style.use('fivethirtyeight')\n",
    "import warnings\n",
    "warnings.simplefilter(action=\"ignore\", category=FutureWarning)\n",
    "import matplotlib.patches as mpatches\n",
    "import matplotlib.pyplot as plt\n",
    "\n",
    "def read_file(f):\n",
    "    with open (f, 'r') as file:\n",
    "        data=file.read()\n",
    "    return data"
   ]
  },
  {
   "cell_type": "markdown",
   "metadata": {},
   "source": [
    "## Reading books"
   ]
  },
  {
   "cell_type": "code",
   "execution_count": null,
   "metadata": {},
   "outputs": [],
   "source": [
    "# Read three books, quickly!\n",
    "\n",
    "huck_finn_text = read_file('huck_finn.txt')\n",
    "huck_finn_chapters = huck_finn_text.split('CHAPTER ')[44:]\n",
    "\n",
    "little_women_text = read_file('little_women.txt')\n",
    "little_women_chapters = little_women_text.split('CHAPTER ')[1:]\n",
    "\n",
    "lotr1_text = read_file('lotr1.txt')\n",
    "lotr1_chapters = lotr1_text.split('CHAPTER ')[1:]"
   ]
  },
  {
   "cell_type": "code",
   "execution_count": null,
   "metadata": {
    "scrolled": false
   },
   "outputs": [],
   "source": [
    "huck_finn_text[0:1000]"
   ]
  },
  {
   "cell_type": "code",
   "execution_count": null,
   "metadata": {},
   "outputs": [],
   "source": [
    "# Display the chapters of Huckleberry Finn in a table.\n",
    "\n",
    "Table().with_column('Chapters', huck_finn_chapters)"
   ]
  },
  {
   "cell_type": "markdown",
   "metadata": {},
   "source": [
    "**Q:** Why is the first word of each chapter in ALL CAPS?"
   ]
  },
  {
   "cell_type": "markdown",
   "metadata": {},
   "source": [
    "## Analysis of book data"
   ]
  },
  {
   "cell_type": "code",
   "execution_count": null,
   "metadata": {},
   "outputs": [],
   "source": [
    "# Count how many times the names Jim, Tom, and Huck appear in each chapter.\n",
    "\n",
    "counts = Table().with_columns([\n",
    "        'Jim', np.char.count(huck_finn_chapters, 'Jim'),\n",
    "        'Tom', np.char.count(huck_finn_chapters, 'Tom'),\n",
    "        'Huck', np.char.count(huck_finn_chapters, 'Huck')\n",
    "    ])\n",
    "\n",
    "# Plot the cumulative counts:\n",
    "# how many times in Chapter 1, how many times in Chapters 1 and 2, and so on.\n",
    "\n",
    "cum_counts = counts.cumsum().with_column('Chapter', np.arange(1, 44, 1))\n",
    "cum_counts.plot(column_for_xticks=3)\n",
    "plots.title('Cumulative Number of Times Each Name Appears', y=1.08);"
   ]
  },
  {
   "cell_type": "markdown",
   "metadata": {},
   "source": [
    "* **Q:** What's the first thing you notice?\n",
    "* **Q:** Who is the main character?\n",
    "* **Q:** What's going on with Tom's line?"
   ]
  },
  {
   "cell_type": "code",
   "execution_count": null,
   "metadata": {},
   "outputs": [],
   "source": [
    "counts = Table().with_columns([\n",
    "        'Frodo', np.char.count(lotr1_chapters, 'Frodo'),\n",
    "        'Gandalf', np.char.count(lotr1_chapters, 'Gandalf'),    \n",
    "        'Bilbo', np.char.count(lotr1_chapters, 'Bilbo'),\n",
    "        'Tom', np.char.count(lotr1_chapters, 'Tom'),\n",
    "        'Boromir', np.char.count(lotr1_chapters, 'Boromir'),\n",
    "        'Sauron', np.char.count(lotr1_chapters, 'Sauron'),\n",
    "    ])\n",
    "\n",
    "# Plot the cumulative counts.\n",
    "\n",
    "cum_counts = counts.cumsum().with_column('Chapter', np.arange(1, 28, 1))\n",
    "cum_counts.plot(column_for_xticks=6)\n",
    "plots.title('Cumulative Number of Times Each Name Appears', y=1.08);"
   ]
  },
  {
   "cell_type": "markdown",
   "metadata": {},
   "source": [
    "## Characters"
   ]
  },
  {
   "cell_type": "markdown",
   "metadata": {},
   "source": [
    "A *character* can be:\n",
    "* a person in a book\n",
    "* [especially in programming] a printed symbol, such as a letter or number or punctuation mark"
   ]
  },
  {
   "cell_type": "code",
   "execution_count": null,
   "metadata": {},
   "outputs": [],
   "source": [
    "# In each chapter, count the number of all characters;\n",
    "# call this the \"length\" of the chapter.\n",
    "# Also count the number of periods.\n",
    "\n",
    "chars_periods_huck_finn = Table().with_columns([\n",
    "        'Huck Finn Chapter Length', [len(s) for s in huck_finn_chapters],\n",
    "        'Number of Periods', np.char.count(huck_finn_chapters, '.')\n",
    "    ])\n",
    "chars_periods_little_women = Table().with_columns([\n",
    "        'Little Women Chapter Length', [len(s) for s in little_women_chapters],\n",
    "        'Number of Periods', np.char.count(little_women_chapters, '.')\n",
    "    ])\n",
    "chars_periods_lotr1 = Table().with_columns([\n",
    "        'LoTR1 Chapter Length', [len(s) for s in lotr1_chapters],\n",
    "        'Number of Periods', np.char.count(lotr1_chapters, '.')\n",
    "    ])\n",
    "\n",
    "chars_periods_huck_finn"
   ]
  },
  {
   "cell_type": "code",
   "execution_count": null,
   "metadata": {},
   "outputs": [],
   "source": [
    "plots.figure(figsize=(6, 6))\n",
    "plots.scatter(chars_periods_huck_finn.column(1), \n",
    "              chars_periods_huck_finn.column(0), \n",
    "              color='darkblue')\n",
    "plots.scatter(chars_periods_little_women.column(1), \n",
    "              chars_periods_little_women.column(0), \n",
    "              color='gold')\n",
    "plots.xlabel('Number of periods in chapter')\n",
    "plots.ylabel('Number of characters in chapter');\n",
    "\n",
    "darkblue_patch = mpatches.Patch(color='darkblue', label='Huck Finn')\n",
    "gold_patch = mpatches.Patch(color='gold', label='Little Women')\n",
    "plt.legend(handles=[darkblue_patch, gold_patch])\n",
    "plt.show()"
   ]
  },
  {
   "cell_type": "markdown",
   "metadata": {},
   "source": [
    "* **Q:** Which book has longer chapters?\n",
    "* **Q:** Do you notice any kind of shape in the plot?\n",
    "* **Q:** If there are about 100 periods in a chapter, about how many characters are in it?\n",
    "* **Q:** If there are about 200 periods in a chapter, about how many characters are in it?\n",
    "* **Q:** How many periods are there per chapter, approximately?\n",
    "* **Q:** And where does that number show up IRL?"
   ]
  },
  {
   "cell_type": "code",
   "execution_count": null,
   "metadata": {},
   "outputs": [],
   "source": [
    "plots.figure(figsize=(6, 6))\n",
    "plots.scatter(chars_periods_huck_finn.column(1), \n",
    "              chars_periods_huck_finn.column(0), \n",
    "              color='darkblue')\n",
    "plots.scatter(chars_periods_little_women.column(1), \n",
    "              chars_periods_little_women.column(0), \n",
    "              color='gold')\n",
    "plots.scatter(chars_periods_lotr1.column(1), \n",
    "              chars_periods_lotr1.column(0), \n",
    "              color='red')\n",
    "plots.xlabel('Number of periods in chapter')\n",
    "plots.ylabel('Number of characters in chapter');\n",
    "\n",
    "darkblue_patch = mpatches.Patch(color='darkblue', label='Huck Finn')\n",
    "gold_patch = mpatches.Patch(color='gold', label='Little Women')\n",
    "red_patch = mpatches.Patch(color='red', label='LoTR1')\n",
    "plt.legend(handles=[darkblue_patch, gold_patch, red_patch])\n",
    "plt.show()"
   ]
  },
  {
   "cell_type": "code",
   "execution_count": null,
   "metadata": {},
   "outputs": [],
   "source": []
  }
 ],
 "metadata": {
  "kernelspec": {
   "display_name": "Python 3",
   "language": "python",
   "name": "python3"
  },
  "language_info": {
   "codemirror_mode": {
    "name": "ipython",
    "version": 3
   },
   "file_extension": ".py",
   "mimetype": "text/x-python",
   "name": "python",
   "nbconvert_exporter": "python",
   "pygments_lexer": "ipython3",
   "version": "3.6.4"
  }
 },
 "nbformat": 4,
 "nbformat_minor": 2
}
