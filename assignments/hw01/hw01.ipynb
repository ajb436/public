{
    "cells": [
        {
            "cell_type": "markdown",
            "metadata": {
                "nbgrader": {
                    "grade": false,
                    "locked": false,
                    "solution": false
                }
            },
            "source": [
                "# Homework 1: Causality and Expressions\n",
                "\n",
                "Please complete this notebook by filling in the cells provided. Before you begin, execute the following cell to load the provided tests."
            ]
        },
        {
            "cell_type": "code",
            "execution_count": null,
            "metadata": {},
            "outputs": [],
            "source": [
                "# You don't need to understand the code in this cell.\n",
                "import sys\n",
                "sys.path.append('hw01_tests')\n",
                "from hw01_tests import *\n",
                "\n",
                "import numpy as np\n",
                "from datascience import *\n",
                "% matplotlib inline"
            ]
        },
        {
            "cell_type": "markdown",
            "metadata": {
                "nbgrader": {
                    "grade": false,
                    "locked": false,
                    "solution": false
                }
            },
            "source": [
                "**Reading:**\n",
                "- Chapter [1][ch1]\n",
                "- Chapter [2][ch2]\n",
                "- Chapter [3][ch3]\n",
                "\n",
                "[ch1]: http:\/\/www.cs.cornell.edu\/courses\/cs1380\/2018sp\/textbook\/chapters\/01\/what-is-data-science.html\n",
                "[ch2]: https:\/\/www.cs.cornell.edu\/courses\/cs1380\/2018sp\/textbook\/chapters\/02\/causality-and-experiments.html\n",
                "[ch3]: https:\/\/www.cs.cornell.edu\/courses\/cs1380\/2018sp\/textbook\/chapters\/03\/programming-in-python.html\n",
                "\n",
                "**Deadline:** This assignment is due Thursday, January 31 at 11:59 pm. You will receive an early submission bonus point if you turn in your final submission by Wednesday, January 30 at 11:59 pm. Late work will not be accepted.\n",
                "\n",
                "**Academic Integrity:** Please review the [course policies][policies] on Academic Integrity.  Directly sharing answers with other students is not permitted, but discussing problems with other students is allowed if you keep the discussion at a high level: use English, not code, to communicate.  \n",
                "\n",
                "[policies]: http:\/\/www.cs.cornell.edu\/courses\/cs1380\/2019sp\/policies.html\n",
                "\n",
                "**Office Hours (OH):** Drop-in office hours are held Monday through Sunday. The [schedule][] will be posted; TAs are currently signing up for OH, so expect the schedule to change some over the next few days.\n",
                "\n",
                "[schedule]: http:\/\/www.cs.cornell.edu\/courses\/cs1380\/2019sp\/oh.html\n",
                "\n",
                "**Ask For Help:** This homework is meant to take at most a few hours to complete, assuming that you have already read the textbook chapters linked above, and that you have already completed Lab 01.  If you get stuck, please visit OH to ask for help!  And please start early, so that you have time to get help if you become stuck. \n",
                "\n",
                "**Submission:** See the end of this notebook for instructions on how to submit the assignment in Vocareum."
            ]
        },
        {
            "cell_type": "markdown",
            "metadata": {
                "nbgrader": {
                    "grade": false,
                    "locked": false,
                    "solution": false
                }
            },
            "source": [
                "## 1. Scary Arithmetic\n"
            ]
        },
        {
            "cell_type": "markdown",
            "metadata": {
                "nbgrader": {
                    "grade": false,
                    "locked": false,
                    "solution": false
                }
            },
            "source": [
                "An ad for ADT Security Systems says,\n",
                "\n",
                "> \"When you go on vacation, burglars go to work [...] According to FBI statistics, over 25% of home burglaries occur between Memorial Day and Labor Day.\"\n",
                "\n",
                "Do the data in the ad support the claim that burglars are more likely to go to work during the time between Memorial Day and Labor Day than at other times? Please explain your answer."
            ]
        },
        {
            "cell_type": "markdown",
            "metadata": {
                "nbgrader": {
                    "grade": false,
                    "locked": false,
                    "solution": false
                }
            },
            "source": [
                "*Write your answer here, replacing this text.*"
            ]
        },
        {
            "cell_type": "code",
            "execution_count": null,
            "metadata": {},
            "outputs": [],
            "source": [
                "# Please do not delete this cell\n"
            ]
        },
        {
            "cell_type": "markdown",
            "metadata": {
                "nbgrader": {
                    "grade": false,
                    "locked": false,
                    "solution": false
                }
            },
            "source": [
                "## 2. Characters in Little Women\n"
            ]
        },
        {
            "cell_type": "markdown",
            "metadata": {
                "nbgrader": {
                    "grade": false,
                    "locked": false,
                    "solution": false
                }
            },
            "source": [
                "In lecture, we counted the number of times that the literary characters were named in each chapter of the classic book, [Little Women](http:\/\/www.cs.cornell.edu\/courses\/cs1380\/2018sp\/textbook\/chapters\/01\/3\/little_women.txt). In computer science, the word \"character\" also refers to a letter, digit, space, or punctuation mark; any single element of a text. The following code generates a scatter plot in which each dot corresponds to a chapter of Little Women. The horizontal position of a dot measures the number of periods in the chapter. The vertical position measures the total number of characters."
            ]
        },
        {
            "cell_type": "code",
            "execution_count": null,
            "metadata": {
                "scrolled": true
            },
            "outputs": [],
            "source": [
                "# This cell contains code that hasn't yet been covered in the course,\n",
                "# but you should be able to interpret the scatter plot it generates.\n",
                "\n",
                "with open('little_women.txt', 'r') as content_file:\n",
                "    text = content_file.read()\n",
                "    \n",
                "chapters = text.split('CHAPTER ')[1:]\n",
                "text = Table().with_column('Chapters', chapters)\n",
                "Table().with_columns(\n",
                "    'Periods',    np.char.count(chapters, '.'),\n",
                "    'Characters', text.apply(len, 0)\n",
                "    ).scatter(0)"
            ]
        },
        {
            "cell_type": "markdown",
            "metadata": {
                "nbgrader": {
                    "grade": false,
                    "locked": false,
                    "solution": false
                }
            },
            "source": [
                "**Question 1.** About how many periods are in the chapter with the most characters? Assign either 1, 2, 3, 4, or 5 to the name `characters_q1` below.\n",
                "\n",
                "1. 250\n",
                "2. 390\n",
                "3. 440\n",
                "4. 32,000\n",
                "5. 40,000"
            ]
        },
        {
            "cell_type": "code",
            "execution_count": null,
            "metadata": {},
            "outputs": [],
            "source": [
                "characters_q1 = ...\n"
            ]
        },
        {
            "cell_type": "code",
            "execution_count": null,
            "metadata": {},
            "outputs": [],
            "source": [
                "# Please run this cell, but do not change the code in it!\n",
                "check2_1(characters_q1)"
            ]
        },
        {
            "cell_type": "markdown",
            "metadata": {},
            "source": [
                "**Checks and tests.**  In Lab 01, you ran many cells like the \"check\" cell above.  These checks are code that the course staff wrote to *check* for some common mistakes that you might have made.  The goal of these checks is to guide you toward correct solutions.  But passing the checks (i.e., getting \"Your solution looks ok!\" or similar output from a check) does not necessarily mean that your solution is 100% correct&mdash;just like a check-up at the doctor doesn't mean that you are necessarily in 100% complete health.  You still need to think about your answers.  In `check2_1` above, for example, your solution will pass the check as long as you assign `characters_q1` the value 1, 2, 3, 4, or 5.  Only one of those answers is correct, though.  \n",
                "\n",
                "The next cell, below, is what actually causes your solution to be graded for complete correctness.  You can't run that cell yourself; instead, it will be run automatically\n",
                "by Vocareum when you submit your homework assignment.  (The instructions on how to submit are at the bottom of this notebook.)  As the cell says, please do not delete it:  doing so would cause you to lose points."
            ]
        },
        {
            "cell_type": "code",
            "execution_count": null,
            "metadata": {
                "nbgrader": {
                    "grade": true,
                    "grade_id": "test2_1",
                    "locked": false,
                    "points": "1",
                    "solution": false
                }
            },
            "outputs": [],
            "source": [
                "#\n",
                "# AUTOGRADER TEST - DO NOT REMOVE\n",
                "#\n"
            ]
        },
        {
            "cell_type": "markdown",
            "metadata": {
                "nbgrader": {
                    "grade": false,
                    "locked": false,
                    "solution": false
                }
            },
            "source": [
                "**Question 2.** Which of the following chapters has the most characters per period? Assign either 1, 2, or 3 to the name `characters_q2` below.\n",
                "1. The chapter with about 60 periods\n",
                "2. The chapter with about 100 periods\n",
                "3. The chapter with about 350 periods"
            ]
        },
        {
            "cell_type": "code",
            "execution_count": null,
            "metadata": {},
            "outputs": [],
            "source": [
                "characters_q2 = ...\n"
            ]
        },
        {
            "cell_type": "markdown",
            "metadata": {
                "nbgrader": {
                    "grade": false,
                    "locked": false,
                    "solution": false
                }
            },
            "source": [
                "Run the next cell to check your answer. Remember, this check *does not* guarantee that you answered 100% correctly; rather, it looks for a few common mistakes to helpfully alert you if you've made one of them."
            ]
        },
        {
            "cell_type": "code",
            "execution_count": null,
            "metadata": {},
            "outputs": [],
            "source": [
                "# Please run this cell, but do not change the code in it!\n",
                "check2_2(characters_q2)"
            ]
        },
        {
            "cell_type": "code",
            "execution_count": null,
            "metadata": {
                "nbgrader": {
                    "grade": true,
                    "grade_id": "test2_2",
                    "locked": false,
                    "points": "1",
                    "solution": false
                }
            },
            "outputs": [],
            "source": [
                "#\n",
                "# AUTOGRADER TEST - DO NOT REMOVE\n",
                "#\n"
            ]
        },
        {
            "cell_type": "markdown",
            "metadata": {
                "nbgrader": {
                    "grade": false,
                    "locked": false,
                    "solution": false
                }
            },
            "source": [
                "## 3. Names and Assignment Statements\n"
            ]
        },
        {
            "cell_type": "markdown",
            "metadata": {
                "nbgrader": {
                    "grade": false,
                    "locked": false,
                    "solution": false
                }
            },
            "source": [
                "**Question 1.** When you run the following cell, Python produces a cryptic error message."
            ]
        },
        {
            "cell_type": "code",
            "execution_count": null,
            "metadata": {},
            "outputs": [],
            "source": [
                "4 = 2 + 2"
            ]
        },
        {
            "cell_type": "markdown",
            "metadata": {
                "nbgrader": {
                    "grade": false,
                    "locked": false,
                    "solution": false
                }
            },
            "source": [
                "Choose the best explanation of what's wrong with the code, and then assign 1, 2, 3, or 4 to `names_q1` below to indicate your answer.\n",
                "\n",
                "1. Python is smart and already knows `4 = 2 + 2`.\n",
                "\n",
                "2. `4` is a number, and it doesn't make sense to make a number be a name for something else. In Python, \"`x = 2 + 2`\" means \"assign `x` as the name for the value of `2 + 2`.\"\n",
                "\n",
                "3. It should be `2 + 2 = 4`.\n",
                "\n",
                "4. I don't get an error message. This is a trick question."
            ]
        },
        {
            "cell_type": "code",
            "execution_count": null,
            "metadata": {},
            "outputs": [],
            "source": [
                "names_q1 = ...\n"
            ]
        },
        {
            "cell_type": "markdown",
            "metadata": {
                "nbgrader": {
                    "grade": false,
                    "locked": false,
                    "solution": false
                }
            },
            "source": [
                "**Question 2.** When you run the following cell, Python will produce another cryptic error message."
            ]
        },
        {
            "cell_type": "code",
            "execution_count": null,
            "metadata": {},
            "outputs": [],
            "source": [
                "two = 3\n",
                "six = two plus two"
            ]
        },
        {
            "cell_type": "markdown",
            "metadata": {
                "nbgrader": {
                    "grade": false,
                    "locked": false,
                    "solution": false
                }
            },
            "source": [
                "Choose the best explanation of what's wrong with the code and assign 1, 2, 3, or 4 to `names_q2` below to indicate your answer.\n",
                "\n",
                "1. The `plus` operation only applies to numbers, not the word \"two\".\n",
                "\n",
                "2. The name \"two\" cannot be assigned to the number 3.\n",
                "\n",
                "3. Two plus two is four, not six.\n",
                "\n",
                "4. The name `two` cannot be followed directly by another name.\n",
                "\n",
                "5. All of the above."
            ]
        },
        {
            "cell_type": "code",
            "execution_count": null,
            "metadata": {},
            "outputs": [],
            "source": [
                "names_q2 = ...\n"
            ]
        },
        {
            "cell_type": "markdown",
            "metadata": {
                "nbgrader": {
                    "grade": false,
                    "locked": false,
                    "solution": false
                }
            },
            "source": [
                "The next cell checks your answers for both `names_q1` and `names_q2`."
            ]
        },
        {
            "cell_type": "code",
            "execution_count": null,
            "metadata": {},
            "outputs": [],
            "source": [
                "# Please run this cell, but do not change the code in it!\n",
                "check3(names_q1, names_q2)"
            ]
        },
        {
            "cell_type": "code",
            "execution_count": null,
            "metadata": {
                "nbgrader": {
                    "grade": true,
                    "grade_id": "test3",
                    "locked": false,
                    "points": "1",
                    "solution": false
                }
            },
            "outputs": [],
            "source": [
                "#\n",
                "# AUTOGRADER TEST - DO NOT REMOVE\n",
                "#\n"
            ]
        },
        {
            "cell_type": "markdown",
            "metadata": {
                "nbgrader": {
                    "grade": false,
                    "locked": false,
                    "solution": false
                }
            },
            "source": [
                "## 4. Job Opportunities & Education in Rural India\n"
            ]
        },
        {
            "cell_type": "markdown",
            "metadata": {
                "nbgrader": {
                    "grade": false,
                    "locked": false,
                    "solution": false
                }
            },
            "source": [
                "A [study](http:\/\/www.nber.org\/papers\/w16021.pdf) at UCLA investigated factors that might result in greater attention to the health and education of girls in rural India. One such factor is information about job opportunities for women. The idea is that if people know that educated women can get good jobs, they might take more care of the health and education of girls in their families, as an investment in the girls\u2019 future potential as earners.\n",
                "\n",
                "The study focused on 160 villages outside the capital of India, all with little access to information about call centers and similar organizations that offer job opportunities to women. In 80 of the villages chosen at random, recruiters visited the village, described the opportunities, recruited women who had some English language proficiency and experience with computers, and provided ongoing support free of charge for three years. In the other 80 villages, no recruiters visited and no other intervention was made.\n",
                "\n",
                "At the end of the study period, the researchers recorded data about the school attendance and health of the children in the villages."
            ]
        },
        {
            "cell_type": "markdown",
            "metadata": {
                "nbgrader": {
                    "grade": false,
                    "locked": false,
                    "solution": false
                }
            },
            "source": [
                "**Question 1.** Which statement best describes the *treatment* and *control* groups for this study? Assign either 1, 2, or 3 to the name `jobs_q1` below.\n",
                "\n",
                "1. The treatment group was the 80 villages visited by recruiters, and the control group was the other 80 villages with no intervention.\n",
                "\n",
                "2. The treatment group was the 160 villages selected, and the control group was the rest of the villages outside the capital of India.\n",
                "\n",
                "3. There is no clear notion of *treatment* and *control* group in this study."
            ]
        },
        {
            "cell_type": "code",
            "execution_count": null,
            "metadata": {},
            "outputs": [],
            "source": [
                "jobs_q1 = ...\n"
            ]
        },
        {
            "cell_type": "markdown",
            "metadata": {
                "nbgrader": {
                    "grade": false,
                    "locked": false,
                    "solution": false
                }
            },
            "source": [
                "**Question 2.** Was this an observational study or a randomized controlled experiment? Assign either 1, 2, or 3 to the name `jobs_q2` below.\n",
                "\n",
                "1. This was an observational study.\n",
                "\n",
                "2. This was a randomized controlled experiment.  \n",
                "\n",
                "3. This was a randomized observational study."
            ]
        },
        {
            "cell_type": "code",
            "execution_count": null,
            "metadata": {},
            "outputs": [],
            "source": [
                "jobs_q2 = ...\n"
            ]
        },
        {
            "cell_type": "code",
            "execution_count": null,
            "metadata": {},
            "outputs": [],
            "source": [
                "# Please run this cell, but do not change the code in it!\n",
                "check4(jobs_q1,jobs_q2)"
            ]
        },
        {
            "cell_type": "code",
            "execution_count": null,
            "metadata": {
                "nbgrader": {
                    "grade": true,
                    "grade_id": "test4",
                    "locked": false,
                    "points": "1",
                    "solution": false
                }
            },
            "outputs": [],
            "source": [
                "#\n",
                "# AUTOGRADER TEST - DO NOT REMOVE\n",
                "#\n"
            ]
        },
        {
            "cell_type": "markdown",
            "metadata": {
                "nbgrader": {
                    "grade": false,
                    "locked": false,
                    "solution": false
                }
            },
            "source": [
                "**Question 3.** The study reported, \u201cGirls aged 5-15 in villages that received the recruiting services were 3 to 5 percentage points more likely to be in school and experienced an increase in Body Mass Index, reflecting greater nutrition and\/or medical care. However, there was no net gain in height. For boys, there was no change in any of these measures.\u201d Why do you think the author points out the lack of change in the boys?"
            ]
        },
        {
            "cell_type": "markdown",
            "metadata": {},
            "source": [
                "*Write your answer here, replacing this text.*"
            ]
        },
        {
            "cell_type": "code",
            "execution_count": null,
            "metadata": {},
            "outputs": [],
            "source": [
                "# Please do not delete this cell\n"
            ]
        },
        {
            "cell_type": "markdown",
            "metadata": {
                "nbgrader": {
                    "grade": false,
                    "locked": false,
                    "solution": false
                }
            },
            "source": [
                "## 5. Differences between Universities\n"
            ]
        },
        {
            "cell_type": "markdown",
            "metadata": {
                "nbgrader": {
                    "grade": false,
                    "locked": false,
                    "solution": false
                }
            },
            "source": [
                "**Question 1.** Suppose you'd like to *quantify* how *dissimilar* two universities are, using three quantitative characteristics.  The US Department of Education data on [Cornell](https:\/\/collegescorecard.ed.gov\/school\/?190415-Cornell-University) and [Dartmouth](https:\/\/collegescorecard.ed.gov\/school\/?182670-Dartmouth-College) describes the following three traits (among many others):\n",
                "\n",
                "| Trait                                | Cornell |Dartmouth |\n",
                "|--------------------------------------|-------- |--------- |\n",
                "| Average annual cost to attend (\\$)     | 29,711  | 29,986   |\n",
                "| Graduation rate (percentage)         | 93      | 95       |\n",
                "| Average salary after attending (\\$)    | 73,600  | 70,000   |\n",
                "\n",
                "You decide to define the dissimilarity between two universities as the sum of the absolute values of the 3 differences in their respective trait values.\n",
                "\n",
                "Using this method, compute the dissimilarity between Cornell and Dartmouth.  Name the result `dissimilarity`.  Use a single expression (a single line of code) to compute the answer.  Let Python perform all the arithmetic (like subtracting 93 from 95) rather than simplifying the expression yourself. The built-in `abs` function takes absolute values."
            ]
        },
        {
            "cell_type": "code",
            "execution_count": null,
            "metadata": {},
            "outputs": [],
            "source": [
                "dissimilarity = ...\n",
                "dissimilarity"
            ]
        },
        {
            "cell_type": "code",
            "execution_count": null,
            "metadata": {},
            "outputs": [],
            "source": [
                "# Please run this cell, but do not change the code in it!\n",
                "check5_1(dissimilarity)"
            ]
        },
        {
            "cell_type": "code",
            "execution_count": null,
            "metadata": {
                "nbgrader": {
                    "grade": true,
                    "grade_id": "test5_1",
                    "locked": false,
                    "points": "1",
                    "solution": false
                }
            },
            "outputs": [],
            "source": [
                "#\n",
                "# AUTOGRADER TEST - DO NOT REMOVE\n",
                "#\n"
            ]
        },
        {
            "cell_type": "markdown",
            "metadata": {
                "nbgrader": {
                    "grade": false,
                    "locked": false,
                    "solution": false
                }
            },
            "source": [
                "**Question 2.** The national median annual income of college graduates is $34,300.00. If the average salary after attending of Cornell and Dartmouth were measured as a percentage of the national median rather than a dollar amount, what would be the dissimilarity between these two universities? Assign either 1, 2, or 3 to the name `universities_q2` below.\n",
                "\n",
                "1. 2\n",
                "2. 275\n",
                "3. 360"
            ]
        },
        {
            "cell_type": "code",
            "execution_count": null,
            "metadata": {
                "scrolled": true
            },
            "outputs": [],
            "source": [
                "universities_q2 = ...\n",
                "universities_q2"
            ]
        },
        {
            "cell_type": "code",
            "execution_count": null,
            "metadata": {},
            "outputs": [],
            "source": [
                "# Please run this cell, but do not change the code in it!\n",
                "check5_2(universities_q2)"
            ]
        },
        {
            "cell_type": "code",
            "execution_count": null,
            "metadata": {
                "nbgrader": {
                    "grade": true,
                    "grade_id": "test5_2",
                    "locked": false,
                    "points": "1",
                    "solution": false
                }
            },
            "outputs": [],
            "source": [
                "#\n",
                "# AUTOGRADER TEST - DO NOT REMOVE\n",
                "#\n"
            ]
        },
        {
            "cell_type": "markdown",
            "metadata": {},
            "source": [
                "## 6. More Children Living at Home?\n"
            ]
        },
        {
            "cell_type": "markdown",
            "metadata": {
                "nbgrader": {
                    "grade": false,
                    "locked": false,
                    "solution": false
                }
            },
            "source": [
                "A USA Today [article](http:\/\/usatoday30.usatoday.com\/news\/nation\/2006-03-16-failure_x.htm) from 2006 includes this sentence: \u201cSince 1970, the percentage of people ages 18 to 34 [in the United States] who live at home with their family increased 48%, from 12.5 million to 18.6 million, the Census Bureau says.\u201d"
            ]
        },
        {
            "cell_type": "markdown",
            "metadata": {
                "nbgrader": {
                    "grade": false,
                    "locked": false,
                    "solution": false
                }
            },
            "source": [
                "**Question 1.** The word \u201cpercentage\u201d isn\u2019t used correctly in the context of the rest of the sentence. What word should replace it and why might it be incorrect? "
            ]
        },
        {
            "cell_type": "markdown",
            "metadata": {},
            "source": [
                "*Write your answer here, replacing this text.*"
            ]
        },
        {
            "cell_type": "code",
            "execution_count": null,
            "metadata": {},
            "outputs": [],
            "source": [
                "# Please do not delete this cell\n"
            ]
        },
        {
            "cell_type": "markdown",
            "metadata": {
                "nbgrader": {
                    "grade": false,
                    "locked": false,
                    "solution": false
                }
            },
            "source": [
                "**Question 2.** In at most 3 sentences, describe whether [changes in the US population](https:\/\/www.google.com\/publicdata\/explore?ds=kf7tgg1uo9ude_&met_y=population&idim=country:US&hl=en&dl=en) are relevant to the data in the USA Today article."
            ]
        },
        {
            "cell_type": "markdown",
            "metadata": {
                "nbgrader": {
                    "grade": false,
                    "locked": false,
                    "solution": false
                }
            },
            "source": [
                "*Write your answer here, replacing this text.*"
            ]
        },
        {
            "cell_type": "code",
            "execution_count": null,
            "metadata": {},
            "outputs": [],
            "source": [
                "# Please do not delete this cell\n"
            ]
        },
        {
            "cell_type": "markdown",
            "metadata": {},
            "source": [
                "## 7. Submit\n",
                "To submit your assignment, click the red Submit button above.  You may submit as many times as you wish before the deadline.  Only your final submission will be graded.  No late work will be accepted, so please make sure you submit something before the deadline!  For more information about deadlines and submissions, please read the [course policies][policies].\n",
                "\n",
                "[policies]: http:\/\/www.cs.cornell.edu\/courses\/cs1380\/2018sp\/policies.html\n"
            ]
        }
    ],
    "metadata": {
        "kernelspec": {
            "display_name": "Python 3",
            "language": "python",
            "name": "python3"
        },
        "language_info": {
            "codemirror_mode": {
                "name": "ipython",
                "version": 3
            },
            "file_extension": ".py",
            "mimetype": "text\/x-python",
            "name": "python",
            "nbconvert_exporter": "python",
            "pygments_lexer": "ipython3",
            "version": "3.6.4"
        }
    },
    "nbformat": 4,
    "nbformat_minor": 1
}